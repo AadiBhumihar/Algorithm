#!/usr/bin/env python3
# -*- coding: utf-8 -*-
"""
Created on Mon Aug 14 15:19:05 2017

@author: bhumihar
"""

def recMC(c,m):

print(recMC([1,5,10,25],6))